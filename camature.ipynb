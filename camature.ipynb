{
 "cells": [
  {
   "cell_type": "code",
   "execution_count": 2,
   "metadata": {},
   "outputs": [],
   "source": [
    "import cv2\n",
    " \n",
    "# Path to image in local directory\n",
    "path = '/Users/vuhn/Desktop/test.png'\n",
    " \n",
    "# Using cv2.imread() to read an image in grayscale mode\n",
    "image = cv2.imread(path, 0)\n",
    " \n",
    "# Using namedWindow()\n",
    "# A window with 'Display_Image' name is created\n",
    "# with WINDOW_NORMAL allowing us to have random size\n",
    "cv2.namedWindow(\"Display_Image\", cv2.WINDOW_NORMAL)\n",
    " \n",
    "# Using cv2.imshow() to display the image\n",
    "cv2.imshow('Display_Image', image)\n",
    " \n",
    "# Waiting 0ms for user to press any key\n",
    "cv2.waitKey(1000)\n",
    " \n",
    "# Using cv2.destroyAllWindows() to destroy\n",
    "# all created windows open on screen\n",
    "cv2.destroyAllWindows()"
   ]
  },
  {
   "cell_type": "code",
   "execution_count": 1,
   "metadata": {},
   "outputs": [
    {
     "ename": "",
     "evalue": "",
     "output_type": "error",
     "traceback": [
      "\u001b[1;31mThe Kernel crashed while executing code in the the current cell or a previous cell. Please review the code in the cell(s) to identify a possible cause of the failure. Click <a href='https://aka.ms/vscodeJupyterKernelCrash'>here</a> for more info. View Jupyter <a href='command:jupyter.viewOutput'>log</a> for further details."
     ]
    }
   ],
   "source": [
    "import sys\n",
    "if sys.version_info < (3, 0):\n",
    "    # Python 2\n",
    "    import Tkinter as tk\n",
    "else:\n",
    "    # Python 3\n",
    "    import tkinter as tk\n",
    "root = tk.Tk()\n",
    "root.title(\"Sandwich\")\n",
    "tk.Button(root, text=\"Make me a Sandwich\").pack()\n",
    "tk.mainloop()"
   ]
  },
  {
   "cell_type": "code",
   "execution_count": 6,
   "metadata": {},
   "outputs": [
    {
     "ename": "ModuleNotFoundError",
     "evalue": "No module named 'cv2'",
     "output_type": "error",
     "traceback": [
      "\u001b[0;31m---------------------------------------------------------------------------\u001b[0m",
      "\u001b[0;31mModuleNotFoundError\u001b[0m                       Traceback (most recent call last)",
      "\u001b[1;32m/Users/vuhn/Documents/PlatformIO/Projects/TensorLED/camature.ipynb Cell 3\u001b[0m in \u001b[0;36m<cell line: 1>\u001b[0;34m()\u001b[0m\n\u001b[0;32m----> <a href='vscode-notebook-cell:/Users/vuhn/Documents/PlatformIO/Projects/TensorLED/camature.ipynb#X10sZmlsZQ%3D%3D?line=0'>1</a>\u001b[0m \u001b[39mimport\u001b[39;00m \u001b[39mcv2\u001b[39;00m\n\u001b[1;32m      <a href='vscode-notebook-cell:/Users/vuhn/Documents/PlatformIO/Projects/TensorLED/camature.ipynb#X10sZmlsZQ%3D%3D?line=1'>2</a>\u001b[0m \u001b[39mprint\u001b[39m(cv2\u001b[39m.\u001b[39m__version__)\n",
      "\u001b[0;31mModuleNotFoundError\u001b[0m: No module named 'cv2'"
     ]
    }
   ],
   "source": [
    "import cv2\n",
    "print(cv2.__version__)"
   ]
  },
  {
   "cell_type": "code",
   "execution_count": 1,
   "metadata": {},
   "outputs": [
    {
     "name": "stdout",
     "output_type": "stream",
     "text": [
      "/Users/vuhn/opt/anaconda3/bin/python\n",
      "3.10.9\n"
     ]
    }
   ],
   "source": [
    "import sys, platform\n",
    "print(sys.executable)\n",
    "print(platform.python_version())"
   ]
  }
 ],
 "metadata": {
  "kernelspec": {
   "display_name": "Python 3 (ipykernel)",
   "language": "python",
   "name": "python3"
  },
  "language_info": {
   "codemirror_mode": {
    "name": "ipython",
    "version": 3
   },
   "file_extension": ".py",
   "mimetype": "text/x-python",
   "name": "python",
   "nbconvert_exporter": "python",
   "pygments_lexer": "ipython3",
   "version": "3.10.9"
  },
  "orig_nbformat": 4
 },
 "nbformat": 4,
 "nbformat_minor": 2
}
